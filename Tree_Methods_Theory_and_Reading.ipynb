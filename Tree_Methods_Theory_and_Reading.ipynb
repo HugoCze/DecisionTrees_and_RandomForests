{
 "cells": [
  {
   "cell_type": "markdown",
   "id": "24f7c683",
   "metadata": {},
   "source": [
    "# Decision Tree Methods"
   ]
  },
  {
   "cell_type": "markdown",
   "id": "21d4ac7c",
   "metadata": {},
   "source": [
    "Decision Trees are just the trees of values to decide what branch will be reviewed next based on the previous branch value. \n",
    "The mathematical methods are just the entropy and the information gain. "
   ]
  },
  {
   "cell_type": "code",
   "execution_count": 2,
   "id": "fca8ccb7",
   "metadata": {},
   "outputs": [],
   "source": [
    "import findspark\n",
    "findspark.init('/home/ubuntu/Spark/spark-3.3.0-bin-hadoop3')"
   ]
  },
  {
   "cell_type": "code",
   "execution_count": 3,
   "id": "67eb596a",
   "metadata": {},
   "outputs": [
    {
     "name": "stderr",
     "output_type": "stream",
     "text": [
      "Setting default log level to \"WARN\".\n",
      "To adjust logging level use sc.setLogLevel(newLevel). For SparkR, use setLogLevel(newLevel).\n"
     ]
    },
    {
     "name": "stdout",
     "output_type": "stream",
     "text": [
      "22/09/14 10:16:20 WARN NativeCodeLoader: Unable to load native-hadoop library for your platform... using builtin-java classes where applicable\n"
     ]
    }
   ],
   "source": [
    "from pyspark.sql import SparkSession\n",
    "spark = SparkSession.builder.appName('Tree_Methods_Theory_and_Reading').getOrCreate()"
   ]
  },
  {
   "cell_type": "code",
   "execution_count": 4,
   "id": "16560624",
   "metadata": {},
   "outputs": [],
   "source": [
    "from pyspark.ml import Pipeline"
   ]
  },
  {
   "cell_type": "code",
   "execution_count": 5,
   "id": "fe5b51f1",
   "metadata": {},
   "outputs": [],
   "source": [
    "from pyspark.ml.classification import RandomForestClassifier, GBTClassifier, DecisionTreeClassifier"
   ]
  },
  {
   "cell_type": "markdown",
   "id": "b3f7bb40",
   "metadata": {},
   "source": [
    "We can also import some of the Classifier types for our regression operations. Just simply use: 'from pyspark.ml.classification import' and choose from the dropdown values. "
   ]
  },
  {
   "cell_type": "code",
   "execution_count": 6,
   "id": "b6c6e166",
   "metadata": {},
   "outputs": [
    {
     "name": "stdout",
     "output_type": "stream",
     "text": [
      "22/09/14 10:33:53 WARN LibSVMFileFormat: 'numFeatures' option not specified, determining the number of features by going though the input. If you know the number in advance, please specify it via 'numFeatures' option to avoid the extra scan.\n"
     ]
    },
    {
     "name": "stderr",
     "output_type": "stream",
     "text": [
      "\r",
      "[Stage 0:>                                                          (0 + 1) / 1]\r",
      "\r",
      "                                                                                \r"
     ]
    }
   ],
   "source": [
    "data = spark.read.format('libsvm').load('sample_libsvm_data.txt')"
   ]
  },
  {
   "cell_type": "code",
   "execution_count": 7,
   "id": "e7e66dfa",
   "metadata": {},
   "outputs": [
    {
     "name": "stdout",
     "output_type": "stream",
     "text": [
      "+-----+--------------------+\n",
      "|label|            features|\n",
      "+-----+--------------------+\n",
      "|  0.0|(692,[127,128,129...|\n",
      "|  1.0|(692,[158,159,160...|\n",
      "|  1.0|(692,[124,125,126...|\n",
      "|  1.0|(692,[152,153,154...|\n",
      "|  1.0|(692,[151,152,153...|\n",
      "|  0.0|(692,[129,130,131...|\n",
      "|  1.0|(692,[158,159,160...|\n",
      "|  1.0|(692,[99,100,101,...|\n",
      "|  0.0|(692,[154,155,156...|\n",
      "|  0.0|(692,[127,128,129...|\n",
      "|  1.0|(692,[154,155,156...|\n",
      "|  0.0|(692,[153,154,155...|\n",
      "|  0.0|(692,[151,152,153...|\n",
      "|  1.0|(692,[129,130,131...|\n",
      "|  0.0|(692,[154,155,156...|\n",
      "|  1.0|(692,[150,151,152...|\n",
      "|  0.0|(692,[124,125,126...|\n",
      "|  0.0|(692,[152,153,154...|\n",
      "|  1.0|(692,[97,98,99,12...|\n",
      "|  1.0|(692,[124,125,126...|\n",
      "+-----+--------------------+\n",
      "only showing top 20 rows\n",
      "\n"
     ]
    }
   ],
   "source": [
    "data.show()"
   ]
  },
  {
   "cell_type": "code",
   "execution_count": 8,
   "id": "5040127b",
   "metadata": {},
   "outputs": [],
   "source": [
    "train_data, test_data = data.randomSplit([0.7, 0.3])"
   ]
  },
  {
   "cell_type": "code",
   "execution_count": 11,
   "id": "62e9397d",
   "metadata": {},
   "outputs": [],
   "source": [
    "# Note:  we are not providing any column names into the dtc, rfc, gbt vars. As the only columns available are just the ones we need so the\n",
    "# label and features.\n",
    "# The more trees the more computation time.\n",
    "dtc = DecisionTreeClassifier()\n",
    "rfc = RandomForestClassifier(numTrees=100)\n",
    "gbt = GBTClassifier()"
   ]
  },
  {
   "cell_type": "code",
   "execution_count": 17,
   "id": "f3c36b70",
   "metadata": {},
   "outputs": [],
   "source": [
    "dtc_model = dtc.fit(train_data)\n",
    "rfc_model = rfc.fit(train_data)\n",
    "gbt_model = gbt.fit(train_data)"
   ]
  },
  {
   "cell_type": "code",
   "execution_count": 18,
   "id": "597e013e",
   "metadata": {},
   "outputs": [],
   "source": [
    "dtc_preds = dtc_model.transform(test_data)\n",
    "rfc_preds = rfc_model.transform(test_data)\n",
    "gbt_preds = gbt_model.transform(test_data)"
   ]
  },
  {
   "cell_type": "code",
   "execution_count": 19,
   "id": "4d867c19",
   "metadata": {},
   "outputs": [
    {
     "name": "stdout",
     "output_type": "stream",
     "text": [
      "dtc\n",
      "+-----+--------------------+-------------+-----------+----------+\n",
      "|label|            features|rawPrediction|probability|prediction|\n",
      "+-----+--------------------+-------------+-----------+----------+\n",
      "|  0.0|(692,[121,122,123...|   [27.0,0.0]|  [1.0,0.0]|       0.0|\n",
      "|  0.0|(692,[122,123,148...|   [27.0,0.0]|  [1.0,0.0]|       0.0|\n",
      "|  0.0|(692,[123,124,125...|   [27.0,0.0]|  [1.0,0.0]|       0.0|\n",
      "|  0.0|(692,[124,125,126...|   [27.0,0.0]|  [1.0,0.0]|       0.0|\n",
      "|  0.0|(692,[126,127,128...|   [27.0,0.0]|  [1.0,0.0]|       0.0|\n",
      "|  0.0|(692,[126,127,128...|   [27.0,0.0]|  [1.0,0.0]|       0.0|\n",
      "|  0.0|(692,[126,127,128...|   [27.0,0.0]|  [1.0,0.0]|       0.0|\n",
      "|  0.0|(692,[126,127,128...|   [27.0,0.0]|  [1.0,0.0]|       0.0|\n",
      "|  0.0|(692,[127,128,129...|   [27.0,0.0]|  [1.0,0.0]|       0.0|\n",
      "|  0.0|(692,[127,128,129...|   [27.0,0.0]|  [1.0,0.0]|       0.0|\n",
      "|  0.0|(692,[150,151,152...|   [27.0,0.0]|  [1.0,0.0]|       0.0|\n",
      "|  0.0|(692,[151,152,153...|   [27.0,0.0]|  [1.0,0.0]|       0.0|\n",
      "|  0.0|(692,[152,153,154...|   [27.0,0.0]|  [1.0,0.0]|       0.0|\n",
      "|  0.0|(692,[154,155,156...|   [27.0,0.0]|  [1.0,0.0]|       0.0|\n",
      "|  0.0|(692,[154,155,156...|   [0.0,40.0]|  [0.0,1.0]|       1.0|\n",
      "|  0.0|(692,[234,235,237...|   [27.0,0.0]|  [1.0,0.0]|       0.0|\n",
      "|  1.0|(692,[124,125,126...|   [0.0,40.0]|  [0.0,1.0]|       1.0|\n",
      "|  1.0|(692,[125,126,127...|   [0.0,40.0]|  [0.0,1.0]|       1.0|\n",
      "|  1.0|(692,[127,128,129...|   [0.0,40.0]|  [0.0,1.0]|       1.0|\n",
      "|  1.0|(692,[127,128,129...|   [0.0,40.0]|  [0.0,1.0]|       1.0|\n",
      "+-----+--------------------+-------------+-----------+----------+\n",
      "only showing top 20 rows\n",
      "\n",
      "rfc\n",
      "+-----+--------------------+-------------+-----------+----------+\n",
      "|label|            features|rawPrediction|probability|prediction|\n",
      "+-----+--------------------+-------------+-----------+----------+\n",
      "|  0.0|(692,[121,122,123...|   [99.0,1.0]|[0.99,0.01]|       0.0|\n",
      "|  0.0|(692,[122,123,148...|  [87.0,13.0]|[0.87,0.13]|       0.0|\n",
      "|  0.0|(692,[123,124,125...|   [96.0,4.0]|[0.96,0.04]|       0.0|\n",
      "|  0.0|(692,[124,125,126...|   [98.0,2.0]|[0.98,0.02]|       0.0|\n",
      "|  0.0|(692,[126,127,128...|  [90.0,10.0]|  [0.9,0.1]|       0.0|\n",
      "|  0.0|(692,[126,127,128...|  [88.0,12.0]|[0.88,0.12]|       0.0|\n",
      "|  0.0|(692,[126,127,128...|   [97.0,3.0]|[0.97,0.03]|       0.0|\n",
      "|  0.0|(692,[126,127,128...|   [93.0,7.0]|[0.93,0.07]|       0.0|\n",
      "|  0.0|(692,[127,128,129...|   [94.0,6.0]|[0.94,0.06]|       0.0|\n",
      "|  0.0|(692,[127,128,129...|   [97.0,3.0]|[0.97,0.03]|       0.0|\n",
      "|  0.0|(692,[150,151,152...|  [87.0,13.0]|[0.87,0.13]|       0.0|\n",
      "|  0.0|(692,[151,152,153...|   [98.0,2.0]|[0.98,0.02]|       0.0|\n",
      "|  0.0|(692,[152,153,154...|  [85.0,15.0]|[0.85,0.15]|       0.0|\n",
      "|  0.0|(692,[154,155,156...|   [91.0,9.0]|[0.91,0.09]|       0.0|\n",
      "|  0.0|(692,[154,155,156...|  [75.0,25.0]|[0.75,0.25]|       0.0|\n",
      "|  0.0|(692,[234,235,237...|  [74.0,26.0]|[0.74,0.26]|       0.0|\n",
      "|  1.0|(692,[124,125,126...|   [1.0,99.0]|[0.01,0.99]|       1.0|\n",
      "|  1.0|(692,[125,126,127...|  [0.0,100.0]|  [0.0,1.0]|       1.0|\n",
      "|  1.0|(692,[127,128,129...|  [0.0,100.0]|  [0.0,1.0]|       1.0|\n",
      "|  1.0|(692,[127,128,129...|  [0.0,100.0]|  [0.0,1.0]|       1.0|\n",
      "+-----+--------------------+-------------+-----------+----------+\n",
      "only showing top 20 rows\n",
      "\n",
      "gbt\n",
      "22/09/14 11:28:29 WARN InstanceBuilder$NativeBLAS: Failed to load implementation from:dev.ludovic.netlib.blas.JNIBLAS\n",
      "22/09/14 11:28:29 WARN InstanceBuilder$NativeBLAS: Failed to load implementation from:dev.ludovic.netlib.blas.ForeignLinkerBLAS\n",
      "+-----+--------------------+--------------------+--------------------+----------+\n",
      "|label|            features|       rawPrediction|         probability|prediction|\n",
      "+-----+--------------------+--------------------+--------------------+----------+\n",
      "|  0.0|(692,[121,122,123...|[1.54350200272498...|[0.95635347857270...|       0.0|\n",
      "|  0.0|(692,[122,123,148...|[1.54350200272498...|[0.95635347857270...|       0.0|\n",
      "|  0.0|(692,[123,124,125...|[1.54350200272498...|[0.95635347857270...|       0.0|\n",
      "|  0.0|(692,[124,125,126...|[1.54350200272498...|[0.95635347857270...|       0.0|\n",
      "|  0.0|(692,[126,127,128...|[1.24333979805475...|[0.92320271836548...|       0.0|\n",
      "|  0.0|(692,[126,127,128...|[1.54350200272498...|[0.95635347857270...|       0.0|\n",
      "|  0.0|(692,[126,127,128...|[1.54350200272498...|[0.95635347857270...|       0.0|\n",
      "|  0.0|(692,[126,127,128...|[1.54350200272498...|[0.95635347857270...|       0.0|\n",
      "|  0.0|(692,[127,128,129...|[1.54350200272498...|[0.95635347857270...|       0.0|\n",
      "|  0.0|(692,[127,128,129...|[1.54350200272498...|[0.95635347857270...|       0.0|\n",
      "|  0.0|(692,[150,151,152...|[1.54350200272498...|[0.95635347857270...|       0.0|\n",
      "|  0.0|(692,[151,152,153...|[1.41614767177062...|[0.94439625809409...|       0.0|\n",
      "|  0.0|(692,[152,153,154...|[1.54350200272498...|[0.95635347857270...|       0.0|\n",
      "|  0.0|(692,[154,155,156...|[1.54350200272498...|[0.95635347857270...|       0.0|\n",
      "|  0.0|(692,[154,155,156...|[-0.9706181540965...|[0.12551209796122...|       1.0|\n",
      "|  0.0|(692,[234,235,237...|[1.38364485535356...|[0.94088241294789...|       0.0|\n",
      "|  1.0|(692,[124,125,126...|[-1.5435020027249...|[0.04364652142729...|       1.0|\n",
      "|  1.0|(692,[125,126,127...|[-1.5435020027249...|[0.04364652142729...|       1.0|\n",
      "|  1.0|(692,[127,128,129...|[-1.5435020027249...|[0.04364652142729...|       1.0|\n",
      "|  1.0|(692,[127,128,129...|[-1.5435020027249...|[0.04364652142729...|       1.0|\n",
      "+-----+--------------------+--------------------+--------------------+----------+\n",
      "only showing top 20 rows\n",
      "\n"
     ]
    }
   ],
   "source": [
    "print('dtc')\n",
    "dtc_preds.show()\n",
    "print('rfc')\n",
    "rfc_preds.show()\n",
    "print('gbt')\n",
    "gbt_preds.show()"
   ]
  },
  {
   "cell_type": "code",
   "execution_count": 20,
   "id": "a389fe79",
   "metadata": {},
   "outputs": [],
   "source": [
    "from pyspark.ml.evaluation import MulticlassClassificationEvaluator"
   ]
  },
  {
   "cell_type": "code",
   "execution_count": 21,
   "id": "d557e22a",
   "metadata": {},
   "outputs": [],
   "source": [
    "acc_eval = MulticlassClassificationEvaluator(metricName='accuracy')"
   ]
  },
  {
   "cell_type": "code",
   "execution_count": 24,
   "id": "641168b5",
   "metadata": {},
   "outputs": [
    {
     "name": "stdout",
     "output_type": "stream",
     "text": [
      "DTC ACCURACY: \n"
     ]
    },
    {
     "data": {
      "text/plain": [
       "0.96875"
      ]
     },
     "execution_count": 24,
     "metadata": {},
     "output_type": "execute_result"
    }
   ],
   "source": [
    "print('DTC ACCURACY: ')\n",
    "acc_eval.evaluate(dtc_preds)"
   ]
  },
  {
   "cell_type": "code",
   "execution_count": 25,
   "id": "9c5c6275",
   "metadata": {},
   "outputs": [
    {
     "name": "stdout",
     "output_type": "stream",
     "text": [
      "RFC ACCURACY: \n"
     ]
    },
    {
     "data": {
      "text/plain": [
       "1.0"
      ]
     },
     "execution_count": 25,
     "metadata": {},
     "output_type": "execute_result"
    }
   ],
   "source": [
    "print('RFC ACCURACY: ')\n",
    "acc_eval.evaluate(rfc_preds)"
   ]
  },
  {
   "cell_type": "code",
   "execution_count": 26,
   "id": "64feeae8",
   "metadata": {},
   "outputs": [
    {
     "name": "stdout",
     "output_type": "stream",
     "text": [
      "GBT ACCURACY: \n"
     ]
    },
    {
     "data": {
      "text/plain": [
       "0.96875"
      ]
     },
     "execution_count": 26,
     "metadata": {},
     "output_type": "execute_result"
    }
   ],
   "source": [
    "print('GBT ACCURACY: ')\n",
    "acc_eval.evaluate(gbt_preds)"
   ]
  },
  {
   "cell_type": "code",
   "execution_count": 27,
   "id": "c8b551df",
   "metadata": {},
   "outputs": [
    {
     "data": {
      "text/plain": [
       "SparseVector(692, {100: 0.0006, 101: 0.0004, 125: 0.0013, 153: 0.0016, 182: 0.0002, 188: 0.0015, 207: 0.0005, 208: 0.0076, 212: 0.0004, 213: 0.0013, 215: 0.0026, 216: 0.0089, 217: 0.0015, 230: 0.001, 233: 0.0037, 234: 0.0014, 240: 0.001, 243: 0.0038, 244: 0.0088, 262: 0.0005, 263: 0.0196, 268: 0.0006, 270: 0.0009, 271: 0.0019, 273: 0.0006, 274: 0.0038, 286: 0.0006, 288: 0.0007, 289: 0.0071, 290: 0.0012, 294: 0.0003, 295: 0.001, 300: 0.0142, 303: 0.0028, 318: 0.0008, 319: 0.0008, 322: 0.0158, 323: 0.0077, 324: 0.0017, 327: 0.0006, 329: 0.0078, 330: 0.0099, 341: 0.0021, 342: 0.0019, 344: 0.007, 345: 0.018, 346: 0.0016, 347: 0.0022, 350: 0.0169, 351: 0.0291, 352: 0.002, 356: 0.0065, 357: 0.0198, 373: 0.0173, 374: 0.0024, 376: 0.0013, 377: 0.0209, 378: 0.044, 379: 0.01, 380: 0.001, 382: 0.0005, 384: 0.013, 385: 0.0197, 386: 0.0077, 388: 0.0012, 399: 0.0071, 402: 0.0024, 405: 0.0361, 406: 0.0429, 407: 0.0212, 408: 0.0005, 412: 0.0154, 414: 0.0065, 415: 0.0042, 416: 0.0029, 426: 0.0078, 427: 0.0077, 430: 0.0006, 431: 0.0005, 433: 0.0192, 434: 0.01, 435: 0.0158, 436: 0.0006, 437: 0.001, 440: 0.0076, 441: 0.0071, 442: 0.0089, 455: 0.0414, 456: 0.0186, 457: 0.0011, 458: 0.0043, 461: 0.0291, 462: 0.01, 463: 0.0251, 467: 0.0009, 468: 0.0071, 469: 0.0146, 472: 0.0014, 481: 0.0021, 483: 0.0165, 484: 0.002, 489: 0.0013, 490: 0.0379, 494: 0.0004, 496: 0.0102, 509: 0.0005, 510: 0.0074, 511: 0.0007, 512: 0.0301, 517: 0.0189, 518: 0.0139, 522: 0.0054, 524: 0.0021, 528: 0.0006, 538: 0.0005, 539: 0.0151, 540: 0.002, 546: 0.0012, 549: 0.002, 568: 0.0258, 571: 0.0009, 574: 0.002, 575: 0.0007, 579: 0.0003, 581: 0.0007, 596: 0.0159, 600: 0.0005, 604: 0.0002, 627: 0.0023, 628: 0.0005, 631: 0.0032, 633: 0.0007, 653: 0.0005})"
      ]
     },
     "execution_count": 27,
     "metadata": {},
     "output_type": "execute_result"
    }
   ],
   "source": [
    "rfc_model.featureImportances"
   ]
  },
  {
   "cell_type": "code",
   "execution_count": null,
   "id": "e2e0f492",
   "metadata": {},
   "outputs": [],
   "source": []
  }
 ],
 "metadata": {
  "kernelspec": {
   "display_name": "Python 3 (ipykernel)",
   "language": "python",
   "name": "python3"
  },
  "language_info": {
   "codemirror_mode": {
    "name": "ipython",
    "version": 3
   },
   "file_extension": ".py",
   "mimetype": "text/x-python",
   "name": "python",
   "nbconvert_exporter": "python",
   "pygments_lexer": "ipython3",
   "version": "3.10.4"
  }
 },
 "nbformat": 4,
 "nbformat_minor": 5
}
