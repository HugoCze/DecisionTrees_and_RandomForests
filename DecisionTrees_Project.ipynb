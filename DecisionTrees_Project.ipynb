{
 "cells": [
  {
   "cell_type": "markdown",
   "id": "dc51fe6e",
   "metadata": {},
   "source": [
    "Why some batches are spoiling ealier than others.\n",
    "One of the mixed four chemicals causes the food to spoil."
   ]
  },
  {
   "cell_type": "code",
   "execution_count": 1,
   "id": "99ba1fef",
   "metadata": {},
   "outputs": [],
   "source": [
    "import findspark\n",
    "findspark.init('/home/ubuntu/Spark/spark-3.3.0-bin-hadoop3')"
   ]
  },
  {
   "cell_type": "code",
   "execution_count": 2,
   "id": "7e520547",
   "metadata": {},
   "outputs": [
    {
     "name": "stderr",
     "output_type": "stream",
     "text": [
      "Setting default log level to \"WARN\".\n",
      "To adjust logging level use sc.setLogLevel(newLevel). For SparkR, use setLogLevel(newLevel).\n"
     ]
    },
    {
     "name": "stdout",
     "output_type": "stream",
     "text": [
      "22/09/15 08:20:33 WARN NativeCodeLoader: Unable to load native-hadoop library for your platform... using builtin-java classes where applicable\n"
     ]
    }
   ],
   "source": [
    "from pyspark.sql import SparkSession\n",
    "spark = SparkSession.builder.appName('DogFoodChemicals').getOrCreate()"
   ]
  },
  {
   "cell_type": "code",
   "execution_count": 3,
   "id": "bfbd7a6d",
   "metadata": {},
   "outputs": [
    {
     "name": "stderr",
     "output_type": "stream",
     "text": [
      "\r",
      "[Stage 0:>                                                          (0 + 1) / 1]\r",
      "\r",
      "                                                                                \r"
     ]
    }
   ],
   "source": [
    "df = spark.read.csv('dog_food.csv', inferSchema=True, header=True)"
   ]
  },
  {
   "cell_type": "code",
   "execution_count": 5,
   "id": "14be710d",
   "metadata": {},
   "outputs": [
    {
     "name": "stdout",
     "output_type": "stream",
     "text": [
      "root\n",
      " |-- A: integer (nullable = true)\n",
      " |-- B: integer (nullable = true)\n",
      " |-- C: double (nullable = true)\n",
      " |-- D: integer (nullable = true)\n",
      " |-- Spoiled: double (nullable = true)\n",
      "\n"
     ]
    }
   ],
   "source": [
    "df.printSchema()"
   ]
  },
  {
   "cell_type": "code",
   "execution_count": 6,
   "id": "1b216a3e",
   "metadata": {},
   "outputs": [
    {
     "data": {
      "text/plain": [
       "[Row(A=4, B=2, C=12.0, D=3, Spoiled=1.0)]"
      ]
     },
     "execution_count": 6,
     "metadata": {},
     "output_type": "execute_result"
    }
   ],
   "source": [
    "df.head(1)"
   ]
  },
  {
   "cell_type": "code",
   "execution_count": 8,
   "id": "cd1bd247",
   "metadata": {},
   "outputs": [
    {
     "data": {
      "text/plain": [
       "['A', 'B', 'C', 'D', 'Spoiled']"
      ]
     },
     "execution_count": 8,
     "metadata": {},
     "output_type": "execute_result"
    }
   ],
   "source": [
    "df.columns"
   ]
  },
  {
   "cell_type": "code",
   "execution_count": 7,
   "id": "d551bb09",
   "metadata": {},
   "outputs": [],
   "source": [
    "from pyspark.ml.feature import VectorAssembler"
   ]
  },
  {
   "cell_type": "code",
   "execution_count": 9,
   "id": "6493bbc0",
   "metadata": {},
   "outputs": [],
   "source": [
    "assembler = VectorAssembler(inputCols=[\n",
    "    'A', 'B', 'C', 'D'\n",
    "], outputCol='features')"
   ]
  },
  {
   "cell_type": "code",
   "execution_count": 10,
   "id": "95be1351",
   "metadata": {},
   "outputs": [],
   "source": [
    "output = assembler.transform(df)"
   ]
  },
  {
   "cell_type": "code",
   "execution_count": 11,
   "id": "dc365359",
   "metadata": {},
   "outputs": [
    {
     "name": "stdout",
     "output_type": "stream",
     "text": [
      "root\n",
      " |-- A: integer (nullable = true)\n",
      " |-- B: integer (nullable = true)\n",
      " |-- C: double (nullable = true)\n",
      " |-- D: integer (nullable = true)\n",
      " |-- Spoiled: double (nullable = true)\n",
      " |-- features: vector (nullable = true)\n",
      "\n"
     ]
    }
   ],
   "source": [
    "output.printSchema()"
   ]
  },
  {
   "cell_type": "code",
   "execution_count": 12,
   "id": "93335094",
   "metadata": {},
   "outputs": [
    {
     "data": {
      "text/plain": [
       "[Row(A=4, B=2, C=12.0, D=3, Spoiled=1.0, features=DenseVector([4.0, 2.0, 12.0, 3.0]))]"
      ]
     },
     "execution_count": 12,
     "metadata": {},
     "output_type": "execute_result"
    }
   ],
   "source": [
    "output.head(1)"
   ]
  },
  {
   "cell_type": "code",
   "execution_count": 13,
   "id": "a24d007b",
   "metadata": {},
   "outputs": [],
   "source": [
    "final_df = output.select('features', 'Spoiled')"
   ]
  },
  {
   "cell_type": "code",
   "execution_count": 14,
   "id": "012bafd2",
   "metadata": {},
   "outputs": [
    {
     "data": {
      "text/plain": [
       "[Row(features=DenseVector([4.0, 2.0, 12.0, 3.0]), Spoiled=1.0)]"
      ]
     },
     "execution_count": 14,
     "metadata": {},
     "output_type": "execute_result"
    }
   ],
   "source": [
    "final_df.head(1)"
   ]
  },
  {
   "cell_type": "code",
   "execution_count": 15,
   "id": "b7e3bf29",
   "metadata": {},
   "outputs": [],
   "source": [
    "train_df, test_df = final_df.randomSplit([0.7, 0.3])"
   ]
  },
  {
   "cell_type": "code",
   "execution_count": 16,
   "id": "b7979556",
   "metadata": {},
   "outputs": [],
   "source": [
    "from pyspark.ml.classification import RandomForestClassifier, GBTClassifier, DecisionTreeClassifier"
   ]
  },
  {
   "cell_type": "code",
   "execution_count": 17,
   "id": "50758786",
   "metadata": {},
   "outputs": [],
   "source": [
    "dtc = DecisionTreeClassifier(labelCol='Spoiled', featuresCol='features')\n",
    "rfc = RandomForestClassifier(labelCol='Spoiled', featuresCol='features')\n",
    "gbt = GBTClassifier(labelCol='Spoiled', featuresCol='features')"
   ]
  },
  {
   "cell_type": "code",
   "execution_count": 18,
   "id": "3d35702d",
   "metadata": {},
   "outputs": [],
   "source": [
    "dtc_model = dtc.fit(train_df)\n",
    "rfc_model = rfc.fit(train_df)\n",
    "gbt_model = gbt.fit(train_df)"
   ]
  },
  {
   "cell_type": "code",
   "execution_count": 32,
   "id": "5dae87aa",
   "metadata": {},
   "outputs": [
    {
     "data": {
      "text/plain": [
       "SparseVector(4, {0: 0.0176, 1: 0.0173, 2: 0.9641, 3: 0.001})"
      ]
     },
     "execution_count": 32,
     "metadata": {},
     "output_type": "execute_result"
    }
   ],
   "source": [
    "dtc_model.featureImportances"
   ]
  },
  {
   "cell_type": "code",
   "execution_count": 33,
   "id": "46a4595e",
   "metadata": {},
   "outputs": [
    {
     "data": {
      "text/plain": [
       "SparseVector(4, {0: 0.0238, 1: 0.0338, 2: 0.9182, 3: 0.0242})"
      ]
     },
     "execution_count": 33,
     "metadata": {},
     "output_type": "execute_result"
    }
   ],
   "source": [
    "rfc_model.featureImportances"
   ]
  },
  {
   "cell_type": "code",
   "execution_count": 34,
   "id": "37ce4981",
   "metadata": {},
   "outputs": [
    {
     "data": {
      "text/plain": [
       "SparseVector(4, {0: 0.028, 1: 0.0502, 2: 0.9002, 3: 0.0216})"
      ]
     },
     "execution_count": 34,
     "metadata": {},
     "output_type": "execute_result"
    }
   ],
   "source": [
    "gbt_model.featureImportances"
   ]
  },
  {
   "cell_type": "code",
   "execution_count": 19,
   "id": "9c8abb59",
   "metadata": {},
   "outputs": [],
   "source": [
    "dtc_preds = dtc_model.transform(test_df)\n",
    "rfc_preds = rfc_model.transform(test_df)\n",
    "gbt_preds = gbt_model.transform(test_df)"
   ]
  },
  {
   "cell_type": "code",
   "execution_count": 20,
   "id": "a1afcb22",
   "metadata": {},
   "outputs": [],
   "source": [
    "from pyspark.ml.evaluation import BinaryClassificationEvaluator"
   ]
  },
  {
   "cell_type": "code",
   "execution_count": 21,
   "id": "e8454587",
   "metadata": {},
   "outputs": [],
   "source": [
    "binary_eval = BinaryClassificationEvaluator(labelCol='Spoiled')"
   ]
  },
  {
   "cell_type": "code",
   "execution_count": 22,
   "id": "86d54f26",
   "metadata": {},
   "outputs": [
    {
     "name": "stdout",
     "output_type": "stream",
     "text": [
      "DTC\n",
      "0.8644649621212122\n"
     ]
    }
   ],
   "source": [
    "print('DTC')\n",
    "print(binary_eval.evaluate(dtc_preds))"
   ]
  },
  {
   "cell_type": "code",
   "execution_count": 23,
   "id": "40dfefd8",
   "metadata": {},
   "outputs": [
    {
     "name": "stdout",
     "output_type": "stream",
     "text": [
      "RFC\n",
      "0.9848484848484848\n"
     ]
    }
   ],
   "source": [
    "print('RFC')\n",
    "print(binary_eval.evaluate(rfc_preds))"
   ]
  },
  {
   "cell_type": "code",
   "execution_count": 24,
   "id": "dd82c507",
   "metadata": {},
   "outputs": [
    {
     "name": "stdout",
     "output_type": "stream",
     "text": [
      "GBT\n",
      "22/09/15 08:35:24 WARN InstanceBuilder$NativeBLAS: Failed to load implementation from:dev.ludovic.netlib.blas.JNIBLAS\n",
      "22/09/15 08:35:24 WARN InstanceBuilder$NativeBLAS: Failed to load implementation from:dev.ludovic.netlib.blas.ForeignLinkerBLAS\n",
      "0.9575047348484849\n"
     ]
    }
   ],
   "source": [
    "print('GBT')\n",
    "print(binary_eval.evaluate(gbt_preds))"
   ]
  },
  {
   "cell_type": "code",
   "execution_count": 26,
   "id": "e4106a46",
   "metadata": {},
   "outputs": [
    {
     "name": "stdout",
     "output_type": "stream",
     "text": [
      "root\n",
      " |-- features: vector (nullable = true)\n",
      " |-- Spoiled: double (nullable = true)\n",
      " |-- rawPrediction: vector (nullable = true)\n",
      " |-- probability: vector (nullable = true)\n",
      " |-- prediction: double (nullable = false)\n",
      "\n"
     ]
    }
   ],
   "source": [
    "gbt_preds.printSchema()"
   ]
  },
  {
   "cell_type": "code",
   "execution_count": 29,
   "id": "de1d5ef6",
   "metadata": {},
   "outputs": [
    {
     "name": "stdout",
     "output_type": "stream",
     "text": [
      "+-------------------+-------+--------------------+--------------------+----------+\n",
      "|           features|Spoiled|       rawPrediction|         probability|prediction|\n",
      "+-------------------+-------+--------------------+--------------------+----------+\n",
      "| [1.0,1.0,10.0,8.0]|    1.0|[1.54350200272498...|[0.95635347857270...|       0.0|\n",
      "| [1.0,1.0,12.0,4.0]|    1.0|[-1.5435020027249...|[0.04364652142729...|       1.0|\n",
      "|  [1.0,2.0,9.0,1.0]|    0.0|[1.31653715721666...|[0.93296009026163...|       0.0|\n",
      "|[1.0,4.0,13.0,10.0]|    1.0|[-1.5435020027249...|[0.04364652142729...|       1.0|\n",
      "|  [1.0,5.0,8.0,5.0]|    0.0|[1.54393867073898...|[0.95638991840537...|       0.0|\n",
      "|[1.0,5.0,12.0,10.0]|    1.0|[-1.5435020027249...|[0.04364652142729...|       1.0|\n",
      "|  [1.0,6.0,8.0,1.0]|    0.0|[1.54399407464195...|[0.95639453977048...|       0.0|\n",
      "|[1.0,6.0,11.0,10.0]|    1.0|[-1.3477485174282...|[0.06323958920405...|       1.0|\n",
      "| [1.0,7.0,11.0,9.0]|    1.0|[-1.5795745216940...|[0.04073229015298...|       1.0|\n",
      "| [1.0,8.0,7.0,10.0]|    0.0|[1.54393867073898...|[0.95638991840537...|       0.0|\n",
      "|  [1.0,8.0,8.0,7.0]|    0.0|[1.54393867073898...|[0.95638991840537...|       0.0|\n",
      "| [1.0,8.0,12.0,1.0]|    1.0|[-1.5435020027249...|[0.04364652142729...|       1.0|\n",
      "|[1.0,10.0,11.0,4.0]|    1.0|[1.54350200272498...|[0.95635347857270...|       0.0|\n",
      "|[1.0,10.0,12.0,3.0]|    1.0|[-1.5435020027249...|[0.04364652142729...|       1.0|\n",
      "|  [2.0,1.0,7.0,9.0]|    0.0|[1.56022196893195...|[0.95772820458644...|       0.0|\n",
      "|  [2.0,1.0,8.0,9.0]|    0.0|[1.56022196893195...|[0.95772820458644...|       0.0|\n",
      "| [2.0,2.0,6.0,10.0]|    0.0|[1.54469729470205...|[0.95645315634796...|       0.0|\n",
      "|  [2.0,2.0,7.0,8.0]|    0.0|[1.54469729470205...|[0.95645315634796...|       0.0|\n",
      "|  [2.0,3.0,6.0,9.0]|    0.0|[1.54425868696988...|[0.95641660523817...|       0.0|\n",
      "| [2.0,3.0,7.0,10.0]|    0.0|[1.54425868696988...|[0.95641660523817...|       0.0|\n",
      "+-------------------+-------+--------------------+--------------------+----------+\n",
      "only showing top 20 rows\n",
      "\n"
     ]
    }
   ],
   "source": [
    "gbt_preds.show()"
   ]
  },
  {
   "cell_type": "markdown",
   "id": "45e6d22f",
   "metadata": {},
   "source": [
    "I didn't actually need to perform the split data op. The indicator is the featureImportances method ran on rfc_model. \n",
    "This on indicates that the \"C\" column parameter is the reason behind the Spoiledge. "
   ]
  },
  {
   "cell_type": "code",
   "execution_count": null,
   "id": "aba2c06a",
   "metadata": {},
   "outputs": [],
   "source": []
  }
 ],
 "metadata": {
  "kernelspec": {
   "display_name": "Python 3 (ipykernel)",
   "language": "python",
   "name": "python3"
  },
  "language_info": {
   "codemirror_mode": {
    "name": "ipython",
    "version": 3
   },
   "file_extension": ".py",
   "mimetype": "text/x-python",
   "name": "python",
   "nbconvert_exporter": "python",
   "pygments_lexer": "ipython3",
   "version": "3.10.4"
  }
 },
 "nbformat": 4,
 "nbformat_minor": 5
}
